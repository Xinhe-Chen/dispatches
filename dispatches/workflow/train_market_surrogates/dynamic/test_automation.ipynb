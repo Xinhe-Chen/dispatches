{
 "cells": [
  {
   "cell_type": "code",
   "execution_count": 1,
   "id": "7b7838f0",
   "metadata": {},
   "outputs": [],
   "source": [
    "from dy_surrogate_automation import SimulationData\n",
    "from dy_surrogate_automation import TimeSeriesClustering\n",
    "from dy_surrogate_automation import TrainNNSurrogates\n",
    "import os\n",
    "import numpy as np"
   ]
  },
  {
   "cell_type": "code",
   "execution_count": 2,
   "id": "076609c4",
   "metadata": {},
   "outputs": [],
   "source": [
    "current_path = os.getcwd()\n",
    "dispatch_data = os.path.join(current_path, 'Time_series_clustering\\\\datasets\\\\Dispatch_shuffled_data_0.csv')\n",
    "input_data = os.path.join(current_path, 'Time_series_clustering\\\\datasets\\\\prescient_generator_inputs.h5')\n",
    "clustering_model_path = os.path.join(current_path, 'Time_series_clustering\\\\clustering_results\\\\result_6400years_shuffled_0_30clusters_OD.json')"
   ]
  },
  {
   "cell_type": "code",
   "execution_count": 3,
   "id": "3cf55b8a",
   "metadata": {},
   "outputs": [],
   "source": [
    "simulation_data = SimulationData(dispatch_data, input_data, num_sims = 10)"
   ]
  },
  {
   "cell_type": "code",
   "execution_count": 4,
   "id": "d21b6461",
   "metadata": {},
   "outputs": [
    {
     "data": {
      "text/plain": [
       "True"
      ]
     },
     "execution_count": 4,
     "metadata": {},
     "output_type": "execute_result"
    }
   ],
   "source": [
    "isinstance(simulation_data, object)"
   ]
  },
  {
   "cell_type": "code",
   "execution_count": 5,
   "id": "f0886606",
   "metadata": {},
   "outputs": [
    {
     "data": {
      "text/plain": [
       "(2536, 24, 1)"
      ]
     },
     "execution_count": 5,
     "metadata": {},
     "output_type": "execute_result"
    }
   ],
   "source": [
    "train_data = TimeSeriesClustering(10,simulation_data)._transform_data()\n",
    "np.shape(train_data)"
   ]
  },
  {
   "cell_type": "code",
   "execution_count": 12,
   "id": "4dbc10d3",
   "metadata": {},
   "outputs": [
    {
     "data": {
      "text/plain": [
       "30"
      ]
     },
     "execution_count": 12,
     "metadata": {},
     "output_type": "execute_result"
    }
   ],
   "source": [
    "label = TrainNNSurrogates(simulation_data, clustering_model_path, 30)._generate_label_data()\n",
    "x,y = TrainNNSurrogates(simulation_data, clustering_model_path, 30)._transform_dict_to_array()\n",
    "TrainNNSurrogates(simulation_data, clustering_model_path, 30).clustering_model.n_clusters"
   ]
  },
  {
   "cell_type": "code",
   "execution_count": null,
   "id": "3856fed8",
   "metadata": {},
   "outputs": [],
   "source": []
  }
 ],
 "metadata": {
  "kernelspec": {
   "display_name": "Python 3 (ipykernel)",
   "language": "python",
   "name": "python3"
  },
  "language_info": {
   "codemirror_mode": {
    "name": "ipython",
    "version": 3
   },
   "file_extension": ".py",
   "mimetype": "text/x-python",
   "name": "python",
   "nbconvert_exporter": "python",
   "pygments_lexer": "ipython3",
   "version": "3.8.8"
  }
 },
 "nbformat": 4,
 "nbformat_minor": 5
}
