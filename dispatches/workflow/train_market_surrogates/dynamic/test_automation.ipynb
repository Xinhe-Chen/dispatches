{
 "cells": [
  {
   "cell_type": "code",
   "execution_count": 3,
   "id": "7b7838f0",
   "metadata": {},
   "outputs": [],
   "source": [
    "from dy_surrogate_automation_NE import SimulationData\n",
    "from dy_surrogate_automation_NE import TimeSeriesClustering\n",
    "from dy_surrogate_automation_NE import TrainNNSurrogates\n",
    "import os\n",
    "import numpy as np"
   ]
  },
  {
   "cell_type": "code",
   "execution_count": 2,
   "id": "076609c4",
   "metadata": {},
   "outputs": [],
   "source": [
    "current_path = os.getcwd()\n",
    "dispatch_data = os.path.join(current_path, 'Time_series_clustering\\\\datasets\\\\Dispatch_shuffled_data_0.csv')\n",
    "input_data = os.path.join(current_path, 'Time_series_clustering\\\\datasets\\\\prescient_generator_inputs.h5')\n",
    "clustering_model_path = os.path.join(current_path, 'Time_series_clustering\\\\clustering_results\\\\result_6400years_shuffled_0_30clusters_OD.json')"
   ]
  },
  {
   "cell_type": "code",
   "execution_count": 3,
   "id": "3cf55b8a",
   "metadata": {},
   "outputs": [],
   "source": [
    "simulation_data = SimulationData(dispatch_data, input_data, num_sims = 10)"
   ]
  },
  {
   "cell_type": "code",
   "execution_count": 5,
   "id": "f0886606",
   "metadata": {},
   "outputs": [
    {
     "data": {
      "text/plain": [
       "(2536, 24, 1)"
      ]
     },
     "execution_count": 5,
     "metadata": {},
     "output_type": "execute_result"
    }
   ],
   "source": [
    "train_data = TimeSeriesClustering(10,simulation_data)._transform_data()\n",
    "np.shape(train_data)"
   ]
  },
  {
   "cell_type": "code",
   "execution_count": 12,
   "id": "4dbc10d3",
   "metadata": {},
   "outputs": [
    {
     "data": {
      "text/plain": [
       "30"
      ]
     },
     "execution_count": 12,
     "metadata": {},
     "output_type": "execute_result"
    }
   ],
   "source": [
    "label = TrainNNSurrogates(simulation_data, clustering_model_path, 30)._generate_label_data()\n",
    "x,y = TrainNNSurrogates(simulation_data, clustering_model_path, 30)._transform_dict_to_array()\n",
    "TrainNNSurrogates(simulation_data, clustering_model_path, 30).clustering_model.n_clusters"
   ]
  },
  {
   "cell_type": "code",
   "execution_count": 6,
   "id": "3856fed8",
   "metadata": {},
   "outputs": [
    {
     "name": "stdout",
     "output_type": "stream",
     "text": [
      "0.8903847509097492 0.08617277929000722 0.582266755885825\n",
      "0.8869785128132859 0.0855302785669706 0.525849108962732\n",
      "0.8699020506986083 0.13445053825509368 0.6091512795144417\n",
      "0.8505443559604081 0.08956073070059534 0.5653933850672853\n"
     ]
    }
   ],
   "source": [
    "# R2 result for different number of clusters\n",
    "R2_20 = [0.8659847106876901, 0.13088015862824542, 0.7323112621800729, 0.8418679909319142, 0.8206470310249327, 0.5675003376287961, 0.11172996015836023, 0.5724910850149563, 0.47490167851223264, 0.828710181881403, 0.10268042981023462, 0.8694842266854246, 0.8304747278183219, 0.08617277929000722, 0.8198511307727507, 0.575829234186567, 0.5646491350043301, 0.09813591678133737, 0.860648389809171, 0.8903847509097492]\n",
    "print(max(R2_20), min(R2_20), np.mean(R2_20))\n",
    "\n",
    "R2_15 = [0.8502061824360824, 0.11473715227661851, 0.6421096176122736, 0.8335463288858332, 0.7874222707883074, 0.6223881556237691, 0.09777904321068209, 0.7431138354417484, 0.2554347962592033, 0.675460430177937, 0.48341529342209255, 0.8869785128132859, 0.09627125969972605, 0.0855302785669706, 0.7133434772264482]\n",
    "print(max(R2_15), min(R2_15), np.mean(R2_15))\n",
    "\n",
    "R2_10 = [0.849585451083567, 0.15069637652678558, 0.8699020506986083, 0.5844754050536374, 0.7782332961035213, 0.623049776602812, 0.13445053825509368, 0.7523546146147616, 0.6539675795971778, 0.6947977066084523]\n",
    "print(max(R2_10), min(R2_10), np.mean(R2_10))\n",
    "\n",
    "R2_5 = [0.8505443559604081, 0.08956073070059534, 0.47688287161261045, 0.6985665079058548, 0.7114124591569579]\n",
    "print(max(R2_5), min(R2_5), np.mean(R2_5))"
   ]
  },
  {
   "cell_type": "code",
   "execution_count": null,
   "id": "544121c6",
   "metadata": {},
   "outputs": [],
   "source": []
  }
 ],
 "metadata": {
  "kernelspec": {
   "display_name": "Python 3 (ipykernel)",
   "language": "python",
   "name": "python3"
  },
  "language_info": {
   "codemirror_mode": {
    "name": "ipython",
    "version": 3
   },
   "file_extension": ".py",
   "mimetype": "text/x-python",
   "name": "python",
   "nbconvert_exporter": "python",
   "pygments_lexer": "ipython3",
   "version": "3.8.8"
  }
 },
 "nbformat": 4,
 "nbformat_minor": 5
}
