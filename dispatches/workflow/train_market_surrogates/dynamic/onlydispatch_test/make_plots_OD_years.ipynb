{
 "cells": [
  {
   "cell_type": "code",
   "execution_count": 1,
   "id": "6c6425d0",
   "metadata": {},
   "outputs": [],
   "source": [
    "import json\n",
    "import pandas as pd\n",
    "import numpy as np\n",
    "import matplotlib.pyplot as plt\n",
    "from tslearn.utils import to_time_series_dataset\n",
    "from tslearn.clustering import TimeSeriesKMeans,silhouette_score\n",
    "import os\n",
    "import time\n",
    "from tslearn_test_OD_years import TSA64K"
   ]
  },
  {
   "cell_type": "code",
   "execution_count": 17,
   "id": "5b13f249",
   "metadata": {},
   "outputs": [
    {
     "name": "stdout",
     "output_type": "stream",
     "text": [
      "C:\\Users\\JKLCh\\Desktop\\ND_PhD\\Research\\clustering\\tslearn\\onlydispatch_test\\year_10\\40_clusters_OD.json\n",
      "0.3525348875422436\n"
     ]
    }
   ],
   "source": [
    "# do clustering and print sillouttle score\n",
    "\n",
    "method = 'euclidean'\n",
    "dispatch_data = 'Example_dispatch_test.csv'\n",
    "num_clusters = 40\n",
    "selected_years = 10\n",
    "\n",
    "tsa_task = TSA64K(dispatch_data, method,selected_years)\n",
    "dispatch_array = tsa_task.read_data()\n",
    "train_data = tsa_task.transform_data(dispatch_array)\n",
    "\n",
    "sc,labels = tsa_task.cluster_data(train_data, num_clusters,save_index = True)\n",
    "print(sc)"
   ]
  },
  {
   "cell_type": "code",
   "execution_count": 28,
   "id": "7c05575a",
   "metadata": {},
   "outputs": [
    {
     "name": "stdout",
     "output_type": "stream",
     "text": [
      "3640\n"
     ]
    }
   ],
   "source": [
    "# store the clustered data into dictionary cluster[label:dispatch_data]\n",
    "\n",
    "clusters = {}\n",
    "for i, j in enumerate(labels):\n",
    "    if j not in clusters:\n",
    "        clusters[j] = {}\n",
    "        clusters[j]['dispatch'] = []\n",
    "        clusters[j]['dispatch'].append(train_data[i])\n",
    "    else:\n",
    "        clusters[j]['dispatch'].append(train_data[i])"
   ]
  },
  {
   "cell_type": "code",
   "execution_count": 26,
   "id": "445759ff",
   "metadata": {},
   "outputs": [],
   "source": [
    "# read the representative day from json file\n",
    "\n",
    "cluster_results = str(num_clusters) + '_clusters_OD.json'\n",
    "path0 = os.getcwd()\n",
    "\n",
    "# test on 1/10/100/1000 year data\n",
    "path1 = f'year_{selected_years}'\n",
    "path = os.path.join(path0,path1,cluster_results)\n",
    "\n",
    "with open(path, 'r') as f:\n",
    "    cluster_results = json.load(f)\n",
    "\n",
    "cen = np.array(cluster_results['model_params']['cluster_centers_'])\n",
    "time_len = range(24)"
   ]
  },
  {
   "cell_type": "code",
   "execution_count": 20,
   "id": "25a2a77f",
   "metadata": {},
   "outputs": [],
   "source": [
    "def plot_results(num):\n",
    "    \n",
    "    font1 = {'family' : 'Times New Roman',\n",
    "    'weight' : 'normal',\n",
    "    'size'   : 18,\n",
    "    }\n",
    "    f,ax1 = plt.subplots(figsize = ((16,6)))\n",
    "    for i in clusters[num]['dispatch']:\n",
    "#         ax1.boxplot(i)\n",
    "        ax1.plot(time_len,i,'--',c='g', alpha=0.3)\n",
    "#     ax1.set_ylim(0,100)\n",
    "    ax1.plot(time_len,cen[num], '-',c = 'r')\n",
    "    ax1.set_ylabel('Dispatched Power(MW)',font = font1)\n",
    "    ax1.set_xlabel('Time(h)',font = font1)\n",
    "    plt.title('Cluster_'+str(num))\n",
    "    plt.show()\n",
    "\n",
    "    return print('The number of days in the cluster_{} is {}'.format(num,len(clusters[num]['dispatch'])))"
   ]
  },
  {
   "cell_type": "code",
   "execution_count": 29,
   "id": "cda61931",
   "metadata": {},
   "outputs": [],
   "source": [
    "# Calculate the capacity factor\n",
    "\n",
    "capf_dict = {}\n",
    "capf_whole_list = []\n",
    "\n",
    "for keys in sorted(clusters.keys()):\n",
    "# for keys in clusters.keys():\n",
    "    capf_list = []\n",
    "    for data in clusters[keys]['dispatch']:\n",
    "        pmax = 1\n",
    "        capf = float(sum(data)/(pmax*len(data)))\n",
    "        capf_list.append(capf)\n",
    "    capf_dict[keys] = capf_list\n",
    "    capf_whole_list.append(np.array(capf_list))"
   ]
  },
  {
   "cell_type": "code",
   "execution_count": 30,
   "id": "cbd581bc",
   "metadata": {},
   "outputs": [
    {
     "data": {
      "text/plain": [
       "[('cluster_1', 930),\n",
       " ('cluster_31', 195),\n",
       " ('cluster_26', 165),\n",
       " ('cluster_8', 151),\n",
       " ('cluster_6', 129),\n",
       " ('cluster_4', 126),\n",
       " ('cluster_5', 125),\n",
       " ('cluster_11', 121),\n",
       " ('cluster_34', 117),\n",
       " ('cluster_30', 106),\n",
       " ('cluster_13', 104),\n",
       " ('cluster_15', 94),\n",
       " ('cluster_2', 93),\n",
       " ('cluster_16', 90),\n",
       " ('cluster_20', 86),\n",
       " ('cluster_24', 75),\n",
       " ('cluster_33', 70),\n",
       " ('cluster_10', 70),\n",
       " ('cluster_39', 68),\n",
       " ('cluster_14', 66),\n",
       " ('cluster_3', 60),\n",
       " ('cluster_21', 53),\n",
       " ('cluster_27', 45),\n",
       " ('cluster_32', 42),\n",
       " ('cluster_9', 42),\n",
       " ('cluster_22', 40),\n",
       " ('cluster_7', 35),\n",
       " ('cluster_12', 33),\n",
       " ('cluster_35', 33),\n",
       " ('cluster_25', 32),\n",
       " ('cluster_38', 32),\n",
       " ('cluster_0', 30),\n",
       " ('cluster_17', 30),\n",
       " ('cluster_19', 29),\n",
       " ('cluster_29', 25),\n",
       " ('cluster_37', 24),\n",
       " ('cluster_18', 23),\n",
       " ('cluster_28', 22),\n",
       " ('cluster_23', 19),\n",
       " ('cluster_36', 10)]"
      ]
     },
     "execution_count": 30,
     "metadata": {},
     "output_type": "execute_result"
    }
   ],
   "source": [
    "length_sort = {}\n",
    "for i in clusters:\n",
    "    length_sort[f'cluster_{i}'] = len(clusters[i]['dispatch'])\n",
    "sorted(length_sort.items(),key = lambda x:x[1],reverse = True)\n"
   ]
  },
  {
   "cell_type": "code",
   "execution_count": 31,
   "id": "adcb224e",
   "metadata": {},
   "outputs": [],
   "source": [
    "# for i in range(num_clusters):\n",
    "#     plot_results(i)\n"
   ]
  },
  {
   "cell_type": "code",
   "execution_count": 36,
   "id": "b1a0cf7d",
   "metadata": {},
   "outputs": [
    {
     "data": {
      "image/png": "[encoded data removed]",
      "text/plain": [
       "<Figure size 576x432 with 1 Axes>"
      ]
     },
     "metadata": {
      "needs_background": "light"
     },
     "output_type": "display_data"
    },
    {
     "data": {
      "image/png": "[encoded data removed]",
      "text/plain": [
       "<Figure size 576x432 with 1 Axes>"
      ]
     },
     "metadata": {
      "needs_background": "light"
     },
     "output_type": "display_data"
    },
    {
     "data": {
      "image/png": "[encoded data removed]",
      "text/plain": [
       "<Figure size 576x432 with 1 Axes>"
      ]
     },
     "metadata": {
      "needs_background": "light"
     },
     "output_type": "display_data"
    },
    {
     "data": {
      "image/png": "[encoded data removed]",
      "text/plain": [
       "<Figure size 576x432 with 1 Axes>"
      ]
     },
     "metadata": {
      "needs_background": "light"
     },
     "output_type": "display_data"
    },
    {
     "data": {
      "image/png": "[encoded data removed]",
      "text/plain": [
       "<Figure size 576x432 with 1 Axes>"
      ]
     },
     "metadata": {
      "needs_background": "light"
     },
     "output_type": "display_data"
    },
    {
     "data": {
      "image/png": "[encoded data removed]",
      "text/plain": [
       "<Figure size 576x432 with 1 Axes>"
      ]
     },
     "metadata": {
      "needs_background": "light"
     },
     "output_type": "display_data"
    },
    {
     "data": {
      "image/png": "[encoded data removed]",
      "text/plain": [
       "<Figure size 576x432 with 1 Axes>"
      ]
     },
     "metadata": {
      "needs_background": "light"
     },
     "output_type": "display_data"
    },
    {
     "data": {
      "image/png": "[encoded data removed]",
      "text/plain": [
       "<Figure size 576x432 with 1 Axes>"
      ]
     },
     "metadata": {
      "needs_background": "light"
     },
     "output_type": "display_data"
    }
   ],
   "source": [
    "# make the box plot\n",
    "\n",
    "cen_list = []\n",
    "for rd in cen:\n",
    "    cen_list.append(sum(rd)/(len(rd)*pmax))\n",
    "\n",
    "length = 0\n",
    "for cluster in capf_whole_list:\n",
    "    length += len(cluster)\n",
    "\n",
    "num_pts_in_clusters = []\n",
    "for day,cluster in enumerate(capf_whole_list):\n",
    "    num_pts_in_clusters.append(f'Cluster_{day},\\n{np.round(len(cluster)/length,4)}')\n",
    "\n",
    "# fig, ((ax1, ax2), (ax3, ax4)) = plt.subplots(2, 2,figsize = (16,12))\n",
    "\n",
    "# ax1.boxplot(capf_whole_list[:5],labels = num_pts_in_clusters[:5])\n",
    "# ax1.boxplot(cen_list[:5],labels = num_pts_in_clusters[:5],medianprops = {'color':'b'})\n",
    "# ax2.boxplot(capf_whole_list[5:10],labels = num_pts_in_clusters[5:10])\n",
    "# ax2.boxplot(cen_list[5:10],labels = num_pts_in_clusters[5:10],medianprops = {'color':'b'})\n",
    "# ax3.boxplot(capf_whole_list[10:15],labels = num_pts_in_clusters[10:15])\n",
    "# ax3.boxplot(cen_list[10:15],labels = num_pts_in_clusters[10:15],medianprops = {'color':'b'})\n",
    "# ax4.boxplot(capf_whole_list[15:20],labels = num_pts_in_clusters[15:20])\n",
    "# ax4.boxplot(cen_list[15:20],labels = num_pts_in_clusters[15:20],medianprops = {'color':'b'})\n",
    "pic_num = int(num_clusters/5)\n",
    "for i in range(pic_num):\n",
    "    f,ax = plt.subplots(figsize = (8,6))\n",
    "    ax.boxplot(capf_whole_list[i*5:(i+1)*5],labels = num_pts_in_clusters[i*5:(i+1)*5])\n",
    "    ax.boxplot(cen_list[i*5:(i+1)*5],labels = num_pts_in_clusters[i*5:(i+1)*5],medianprops = {'color':'b'})\n",
    "plt.show()\n",
    "\n"
   ]
  },
  {
   "cell_type": "code",
   "execution_count": 101,
   "id": "d88f37b0",
   "metadata": {},
   "outputs": [
    {
     "name": "stdout",
     "output_type": "stream",
     "text": [
      "0.03732335492957739 0.9891417206572768 0.8398483009389672\n"
     ]
    }
   ],
   "source": [
    "q1 = np.quantile(capf_whole_list[5], 0.25)\n",
    " \n",
    "# finding the 3rd quartile\n",
    "q3 = np.quantile(capf_whole_list[5], 0.75)\n",
    "med = np.median(capf_whole_list[5])\n",
    " \n",
    "# finding the iqr region\n",
    "iqr = q3-q1\n",
    " \n",
    "# finding upper and lower whiskers\n",
    "upper_bound = q3+(1.5*iqr)\n",
    "lower_bound = q1-(1.5*iqr)\n",
    "print(iqr, upper_bound, lower_bound)"
   ]
  },
  {
   "cell_type": "code",
   "execution_count": 37,
   "id": "1aea2360",
   "metadata": {},
   "outputs": [
    {
     "name": "stdout",
     "output_type": "stream",
     "text": [
      "0.787823651032864 [0.78973806]\n",
      "1.0 [0.99367704]\n",
      "0.7264191319248825 [0.7221179]\n",
      "0.47196926885758994 [0.47658409]\n",
      "0.8124662666510172 [0.8133731]\n",
      "0.8581083807511737 [0.85310477]\n",
      "0.625 [0.63378406]\n",
      "0.6365710274178403 [0.63917067]\n",
      "0.8330594197183099 [0.83372185]\n",
      "0.40595412007042253 [0.41490417]\n",
      "0.8152927660328638 [0.80751809]\n",
      "0.957039841314554 [0.95342602]\n",
      "0.37341921384976523 [0.38695059]\n",
      "0.6817351711267605 [0.6830513]\n",
      "0.6666666666666666 [0.67689506]\n",
      "0.8948619589201878 [0.9002661]\n",
      "0.7567138351330203 [0.76405196]\n",
      "0.8044746819835682 [0.8035612]\n",
      "0.7326963978403755 [0.73458916]\n",
      "0.38725505598591553 [0.40144543]\n",
      "0.8955901240610328 [0.89525265]\n",
      "0.6276613136150235 [0.63493606]\n",
      "0.7338958741784039 [0.74396879]\n",
      "0.621685351799687 [0.60955672]\n",
      "0.5828394737089202 [0.56842073]\n",
      "0.5332603090766823 [0.54675787]\n",
      "0.8892603244131455 [0.89781825]\n",
      "0.8874465971830986 [0.88780294]\n",
      "0.5938508914319249 [0.5996374]\n",
      "0.6036436730046949 [0.60589445]\n",
      "0.7520833333333335 [0.75158305]\n",
      "0.9212954450704226 [0.92074921]\n",
      "0.5413432923513302 [0.53711112]\n",
      "0.577730504460094 [0.58078149]\n",
      "0.8115107629107982 [0.80969057]\n",
      "0.31211124694835685 [0.32915636]\n",
      "0.24455345211267604 [0.29203315]\n",
      "0.5759939591549296 [0.55271747]\n",
      "0.4579149333333334 [0.45464936]\n",
      "0.9267061429107981 [0.92455048]\n"
     ]
    }
   ],
   "source": [
    "for i,j in enumerate(capf_whole_list):\n",
    "    print(np.median(j),cen_list[i])\n"
   ]
  },
  {
   "cell_type": "code",
   "execution_count": null,
   "id": "eef18293",
   "metadata": {},
   "outputs": [],
   "source": []
  }
 ],
 "metadata": {
  "kernelspec": {
   "display_name": "Python 3 (ipykernel)",
   "language": "python",
   "name": "python3"
  },
  "language_info": {
   "codemirror_mode": {
    "name": "ipython",
    "version": 3
   },
   "file_extension": ".py",
   "mimetype": "text/x-python",
   "name": "python",
   "nbconvert_exporter": "python",
   "pygments_lexer": "ipython3",
   "version": "3.8.8"
  }
 },
 "nbformat": 4,
 "nbformat_minor": 5
}
