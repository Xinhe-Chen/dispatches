{
 "cells": [
  {
   "cell_type": "markdown",
   "id": "b8f5b81e",
   "metadata": {},
   "source": [
    "# Train Multi-period Market Surrogates"
   ]
  },
  {
   "cell_type": "markdown",
   "id": "8f001370",
   "metadata": {},
   "source": [
    "In this notenook, we will demonstrate how to train the revenue surrogates and dispatch frequency surrogates for the different case study conceptual design problems. "
   ]
  },
  {
   "cell_type": "markdown",
   "id": "0e9f051a",
   "metadata": {},
   "source": [
    "Import packages"
   ]
  },
  {
   "cell_type": "code",
   "execution_count": 1,
   "id": "112cdfcf",
   "metadata": {},
   "outputs": [],
   "source": [
    "import os\n",
    "from Simulation_Data import SimulationData\n",
    "from Train_NN_Surrogates import TrainNNSurrogates\n",
    "from Time_Series_Clustering import TimeSeriesClustering\n",
    "import pathlib\n",
    "import pandas as pd"
   ]
  },
  {
   "cell_type": "markdown",
   "id": "b8d4e0e5",
   "metadata": {},
   "source": [
    "Give the path of the data. In the util folder, there are codes for extracting data from the raw data."
   ]
  },
  {
   "cell_type": "code",
   "execution_count": 5,
   "id": "2df6b4f4",
   "metadata": {},
   "outputs": [],
   "source": [
    "dispatch_data_path = str(pathlib.Path.cwd().joinpath('..','..','..','..','..','datasets','results_nuclear_sweep','Dispatch_data_NE_whole.csv'))\n",
    "input_data_path = str(pathlib.Path.cwd().joinpath('..','..','..','..','..','datasets','results_nuclear_sweep','sweep_parameters_results_NE_whole.h5'))"
   ]
  },
  {
   "cell_type": "markdown",
   "id": "78932770",
   "metadata": {},
   "source": [
    "We have to indicate the type of the case study. It should be one of 'RE'(renewable energy), 'NE'(nuclear energy) or 'FE'(fossil energy). "
   ]
  },
  {
   "cell_type": "code",
   "execution_count": 6,
   "id": "ca482bc5",
   "metadata": {},
   "outputs": [],
   "source": [
    "case_type = 'NE'"
   ]
  },
  {
   "cell_type": "markdown",
   "id": "c993103b",
   "metadata": {},
   "source": [
    "Also, some parameters needs to be specified.\n",
    "\n",
    "num_clusters: number of clusters for the k-means clustering.\n",
    "\n",
    "num_sims: number of Prescient simulations we want to have for clustering.\n",
    "\n",
    "filter_opt: If we want to have 'filter' for the clustering. The filter will exclude the days with zero/full capacity factors, like the whole day the generator is off or working at full capacity."
   ]
  },
  {
   "cell_type": "code",
   "execution_count": 9,
   "id": "c99c9930",
   "metadata": {},
   "outputs": [],
   "source": [
    "num_clusters = 30        # number of clusters for the k-means clustering.\n",
    "num_sims = 192        # number of Prescient simulations we want to have for clustering\n",
    "filter_opt = True        # If we want to have 'filter' for the clustering."
   ]
  },
  {
   "cell_type": "markdown",
   "id": "44a5ae07",
   "metadata": {},
   "source": [
    "Create an object using SimulationData class. This object will process and store the data for clustering and training neural networks."
   ]
  },
  {
   "cell_type": "code",
   "execution_count": 11,
   "id": "7d040e18",
   "metadata": {},
   "outputs": [],
   "source": [
    "simulation_data = SimulationData(dispatch_data_path, input_data_path, num_sims, case_type)"
   ]
  },
  {
   "cell_type": "markdown",
   "id": "4eec7e4b",
   "metadata": {},
   "source": [
    "Create an object for time series clustering. \n",
    "\n",
    "Three arguments are necessary: num_clusters, simulation_data, filter_opt"
   ]
  },
  {
   "cell_type": "code",
   "execution_count": 12,
   "id": "a4f4e025",
   "metadata": {},
   "outputs": [],
   "source": [
    "clusteringtrainer = TimeSeriesClustering(num_clusters, simulation_data, filter_opt)"
   ]
  },
  {
   "cell_type": "markdown",
   "id": "482cfcd8",
   "metadata": {},
   "source": [
    "We can return the trained clustering model by the function."
   ]
  },
  {
   "cell_type": "code",
   "execution_count": 13,
   "id": "b02abef0",
   "metadata": {},
   "outputs": [],
   "source": [
    "clustering_model = clusteringtrainer.clustering_data()"
   ]
  },
  {
   "cell_type": "markdown",
   "id": "828296cd",
   "metadata": {},
   "source": [
    "To save the model, we can need a path. If we don't give the path, the model will be saved to the default folder."
   ]
  },
  {
   "cell_type": "code",
   "execution_count": 17,
   "id": "72ed51ce",
   "metadata": {},
   "outputs": [],
   "source": [
    "clustering_result_path = str(pathlib.Path.cwd().joinpath(f'{case_type}_case_study', f'example_{case_type}_result_{num_sims}years_{num_clusters}clusters_OD.json'))"
   ]
  },
  {
   "cell_type": "markdown",
   "id": "8a8280f1",
   "metadata": {},
   "source": [
    "Save the clustering model to a json file. The function will return the path of the clustering model in case you need to read it again."
   ]
  },
  {
   "cell_type": "code",
   "execution_count": 18,
   "id": "5928f425",
   "metadata": {},
   "outputs": [],
   "source": [
    "clustering_model_path = clusteringtrainer.save_clustering_model(clustering_model, fpath = clustering_result_path)\n"
   ]
  }
 ],
 "metadata": {
  "kernelspec": {
   "display_name": "Python 3 (ipykernel)",
   "language": "python",
   "name": "python3"
  },
  "language_info": {
   "codemirror_mode": {
    "name": "ipython",
    "version": 3
   },
   "file_extension": ".py",
   "mimetype": "text/x-python",
   "name": "python",
   "nbconvert_exporter": "python",
   "pygments_lexer": "ipython3",
   "version": "3.8.8"
  }
 },
 "nbformat": 4,
 "nbformat_minor": 5
}
