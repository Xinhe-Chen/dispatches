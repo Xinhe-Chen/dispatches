{
 "cells": [
  {
   "cell_type": "code",
   "execution_count": 1,
   "id": "1957990f",
   "metadata": {},
   "outputs": [],
   "source": [
    "import pandas as pd\n",
    "import numpy as np\n",
    "import json\n",
    "import matplotlib.pyplot as plt"
   ]
  },
  {
   "cell_type": "markdown",
   "id": "ffdcf708",
   "metadata": {},
   "source": [
    "Read the json file and return a dictionary"
   ]
  },
  {
   "cell_type": "code",
   "execution_count": 2,
   "id": "881e5e11",
   "metadata": {},
   "outputs": [],
   "source": [
    "file_name = 'FE_dispatch_95_5_median_new.json'\n",
    "\n",
    "with open(file_name) as f:\n",
    "    sub_data = json.load(f)"
   ]
  },
  {
   "cell_type": "markdown",
   "id": "18f93f19",
   "metadata": {},
   "source": [
    "Here are the keys of this dictionary."
   ]
  },
  {
   "cell_type": "code",
   "execution_count": 3,
   "id": "ed77a82a",
   "metadata": {},
   "outputs": [
    {
     "data": {
      "text/plain": [
       "dict_keys(['cluster_95_dispatch', 'cluster_5_dispatch', 'median_dispatch'])"
      ]
     },
     "execution_count": 3,
     "metadata": {},
     "output_type": "execute_result"
    }
   ],
   "source": [
    "sub_data.keys()"
   ]
  },
  {
   "cell_type": "markdown",
   "id": "5169b22c",
   "metadata": {},
   "source": [
    "The 'cluster_95_dispatch' is the sub_scenario data for 95 quantile average capacity factor. \n",
    "\n",
    "The value of this key is still a dictionary"
   ]
  },
  {
   "cell_type": "code",
   "execution_count": 4,
   "id": "b0404b80",
   "metadata": {},
   "outputs": [
    {
     "data": {
      "text/plain": [
       "dict"
      ]
     },
     "execution_count": 4,
     "metadata": {},
     "output_type": "execute_result"
    }
   ],
   "source": [
    "sub_95_data = sub_data['cluster_95_dispatch']\n",
    "\n",
    "type(sub_95_data)"
   ]
  },
  {
   "cell_type": "markdown",
   "id": "08634ed2",
   "metadata": {},
   "source": [
    "In the 'sub_95_data' dictionary, the keys are the scenario number, from 0 to number of representative days -1.\n",
    "\n",
    "Here the json will automatically set the keys in the dictionary to string instead of float.  "
   ]
  },
  {
   "cell_type": "code",
   "execution_count": 5,
   "id": "deb2660a",
   "metadata": {},
   "outputs": [
    {
     "name": "stdout",
     "output_type": "stream",
     "text": [
      "dict_keys(['0', '1', '2', '3', '4', '5', '6', '7', '8', '9', '10', '11', '12', '13', '14', '15', '16', '17', '18', '19'])\n"
     ]
    }
   ],
   "source": [
    "print(sub_95_data.keys())"
   ]
  },
  {
   "cell_type": "markdown",
   "id": "f0fc29aa",
   "metadata": {},
   "source": [
    "Here you can have the list of lenght 24, which is the time series capacity factor data."
   ]
  },
  {
   "cell_type": "code",
   "execution_count": 6,
   "id": "970ab7b6",
   "metadata": {},
   "outputs": [
    {
     "name": "stdout",
     "output_type": "stream",
     "text": [
      "The type of the 0.95 quantile average capacity factor data of scenario 0 is <class 'list'>\n",
      "The length of the 0.95 quantile average capacity factor data of scenario 0 is 24\n"
     ]
    }
   ],
   "source": [
    "print('The type of the 0.95 quantile average capacity factor data of scenario 0 is',type(sub_95_data['0']))\n",
    "\n",
    "print('The length of the 0.95 quantile average capacity factor data of scenario 0 is',len(sub_95_data['0']))"
   ]
  },
  {
   "cell_type": "code",
   "execution_count": 7,
   "id": "525161ee",
   "metadata": {},
   "outputs": [
    {
     "data": {
      "text/plain": [
       "[[1.2000000000000002],\n",
       " [1.2000000000000002],\n",
       " [1.2000000000000002],\n",
       " [1.2000000000000002],\n",
       " [1.2000000000000002],\n",
       " [1.2000000000000002],\n",
       " [1.2000000000000002],\n",
       " [1.2000000000000002],\n",
       " [1.0],\n",
       " [0.8172056776315789],\n",
       " [1.0],\n",
       " [1.0],\n",
       " [1.0],\n",
       " [0.6052631578947368],\n",
       " [0.21052631578947367],\n",
       " [0.0],\n",
       " [0.39473684210526316],\n",
       " [0.0],\n",
       " [0.39473684210526316],\n",
       " [0.7894736842105263],\n",
       " [1.0],\n",
       " [1.0],\n",
       " [1.0],\n",
       " [1.0]]"
      ]
     },
     "execution_count": 7,
     "metadata": {},
     "output_type": "execute_result"
    }
   ],
   "source": [
    "sub_95_data['0']"
   ]
  },
  {
   "cell_type": "markdown",
   "id": "02456509",
   "metadata": {},
   "source": [
    "Separate the capacity factor into generator capacity factor and storage capacity factor"
   ]
  },
  {
   "cell_type": "code",
   "execution_count": 8,
   "id": "37c70b1b",
   "metadata": {},
   "outputs": [
    {
     "data": {
      "text/plain": [
       "[[[0, 0],\n",
       "  [1, 0],\n",
       "  [2, 0],\n",
       "  [3, 0],\n",
       "  [4, 0],\n",
       "  [5, 0],\n",
       "  [6, 0],\n",
       "  [7, 0],\n",
       "  [8, 1.0],\n",
       "  [9, 0.8172056776315789],\n",
       "  [10, 1.0],\n",
       "  [11, 1.0],\n",
       "  [12, 1.0],\n",
       "  [13, 0.6052631578947368],\n",
       "  [14, 0.21052631578947367],\n",
       "  [15, 0.0],\n",
       "  [16, 0.39473684210526316],\n",
       "  [17, 0.0],\n",
       "  [18, 0.39473684210526316],\n",
       "  [19, 0.7894736842105263],\n",
       "  [20, 1.0],\n",
       "  [21, 1.0],\n",
       "  [22, 1.0],\n",
       "  [23, 1.0]],\n",
       " [[0, 1.0000000000000009],\n",
       "  [1, 1.0000000000000009],\n",
       "  [2, 1.0000000000000009],\n",
       "  [3, 1.0000000000000009],\n",
       "  [4, 1.0000000000000009],\n",
       "  [5, 1.0000000000000009],\n",
       "  [6, 1.0000000000000009],\n",
       "  [7, 1.0000000000000009],\n",
       "  [8, 0],\n",
       "  [9, 0],\n",
       "  [10, 0],\n",
       "  [11, 0],\n",
       "  [12, 0],\n",
       "  [13, 0],\n",
       "  [14, 0],\n",
       "  [15, 0],\n",
       "  [16, 0],\n",
       "  [17, 0],\n",
       "  [18, 0],\n",
       "  [19, 0],\n",
       "  [20, 0],\n",
       "  [21, 0],\n",
       "  [22, 0],\n",
       "  [23, 0]]]"
      ]
     },
     "execution_count": 8,
     "metadata": {},
     "output_type": "execute_result"
    }
   ],
   "source": [
    "sep_data = {}\n",
    "for i in sub_data:\n",
    "    sep_data[i] = {}\n",
    "    for j in sub_data[i]:\n",
    "        gen = []\n",
    "        sto = []\n",
    "        for idx, t in enumerate(sub_data[i][j]):\n",
    "            if t[0] >= 1.0001:\n",
    "                # if t[0] >= 1, then the storage is dispatched and the generator is working at full capacity\n",
    "                sto.append([idx,(t[0]-1)/0.2])\n",
    "                gen.append([idx, 0])\n",
    "            else:\n",
    "                # if t[0] <= 1, then the storage is not working and the generator is working at the given capacity\n",
    "                sto.append([idx, 0])\n",
    "                gen.append([idx, t[0]])\n",
    "        sep_data[i][j] = [gen,sto]\n",
    "sep_data['cluster_95_dispatch']['0']"
   ]
  },
  {
   "cell_type": "markdown",
   "id": "8a9589f7",
   "metadata": {},
   "source": [
    "Save the data to json file."
   ]
  },
  {
   "cell_type": "code",
   "execution_count": 9,
   "id": "48767bf0",
   "metadata": {},
   "outputs": [],
   "source": [
    "with open('FE_dispatch_95_5_median_separate.json', 'w') as f:\n",
    "    json.dump(sep_data, f)"
   ]
  },
  {
   "cell_type": "markdown",
   "id": "b23b6666",
   "metadata": {},
   "source": [
    "Create a file with only 3 day profiles"
   ]
  },
  {
   "cell_type": "code",
   "execution_count": 11,
   "id": "c0bdec91",
   "metadata": {},
   "outputs": [],
   "source": [
    "sep_data_3_day = {}\n",
    "for key in sep_data:\n",
    "    sep_data_3_day[key] = {}\n",
    "    for i in range(3):\n",
    "        sep_data_3_day[key][str(i)] = sep_data[key][str(i)]\n",
    "\n",
    "with open('FE_dispatch_95_5_median_separate_3_day.json', 'w') as f:\n",
    "    json.dump(sep_data_3_day, f)"
   ]
  },
  {
   "cell_type": "markdown",
   "id": "edd6b881",
   "metadata": {},
   "source": [
    "sub_scenario_dispatch_profile = spe_data[keys][scenario_number]\n",
    "\n",
    "keys in ['cluster_95_dispatch', 'cluster_5_dispatch', 'median_dispatch']\n",
    "\n",
    "scenario_number in list(str(range(30)))\n",
    "\n",
    "sub_scenario_dispatch_profile[0] = generator profile\n",
    "\n",
    "sub_scenario_dispatch_profile[1] = storage profile"
   ]
  },
  {
   "cell_type": "markdown",
   "id": "aac918cd",
   "metadata": {},
   "source": [
    "For the full capacity days and zero capacity days, each sub-scenario is the same.\n",
    "\n",
    "full days:\n",
    "\n",
    "Generator_capacity_profile_full = [1]*24\n",
    "\n",
    "Storage_capacity_profile_full = [0]*24\n",
    "\n",
    "zero days:\n",
    "\n",
    "Generator_capacity_profile_full = [0]*24\n",
    "\n",
    "Storage_capacity_profile_full = [0]*24"
   ]
  },
  {
   "cell_type": "code",
   "execution_count": 125,
   "id": "1d590d67",
   "metadata": {},
   "outputs": [
    {
     "name": "stdout",
     "output_type": "stream",
     "text": [
      "0\n"
     ]
    }
   ],
   "source": [
    "filter_opt = True\n",
    "\n",
    "idx = 1\n",
    "\n",
    "num_clusters = 10\n",
    "\n",
    "if filter_opt == True and (idx == 0 or idx == num_clusters + 1):\n",
    "    print('spe')\n",
    "else:\n",
    "    print(idx-1)"
   ]
  },
  {
   "cell_type": "code",
   "execution_count": null,
   "id": "f6b6b705",
   "metadata": {},
   "outputs": [],
   "source": []
  }
 ],
 "metadata": {
  "kernelspec": {
   "display_name": "Python 3 (ipykernel)",
   "language": "python",
   "name": "python3"
  },
  "language_info": {
   "codemirror_mode": {
    "name": "ipython",
    "version": 3
   },
   "file_extension": ".py",
   "mimetype": "text/x-python",
   "name": "python",
   "nbconvert_exporter": "python",
   "pygments_lexer": "ipython3",
   "version": "3.8.8"
  }
 },
 "nbformat": 4,
 "nbformat_minor": 5
}
