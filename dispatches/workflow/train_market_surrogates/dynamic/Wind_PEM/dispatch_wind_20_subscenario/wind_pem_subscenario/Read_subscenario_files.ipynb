{
 "cells": [
  {
   "cell_type": "code",
   "execution_count": 1,
   "id": "1957990f",
   "metadata": {},
   "outputs": [],
   "source": [
    "import pandas as pd\n",
    "import numpy as np\n",
    "import json"
   ]
  },
  {
   "cell_type": "markdown",
   "id": "ffdcf708",
   "metadata": {},
   "source": [
    "Read the json file and return a dictionary"
   ]
  },
  {
   "cell_type": "code",
   "execution_count": 2,
   "id": "881e5e11",
   "metadata": {},
   "outputs": [],
   "source": [
    "file_name = 'dispatch_95_5_median.json'\n",
    "\n",
    "with open(file_name) as f:\n",
    "    sub_data = json.load(f)"
   ]
  },
  {
   "cell_type": "markdown",
   "id": "18f93f19",
   "metadata": {},
   "source": [
    "Here are the keys of this dictionary."
   ]
  },
  {
   "cell_type": "code",
   "execution_count": 3,
   "id": "ed77a82a",
   "metadata": {},
   "outputs": [
    {
     "data": {
      "text/plain": [
       "dict_keys(['cluster_95_dispatch', 'cluster_5_dispatch', 'median_dispatch', 'cluster_95_wind', 'cluster_5_wind', 'median_wind'])"
      ]
     },
     "execution_count": 3,
     "metadata": {},
     "output_type": "execute_result"
    }
   ],
   "source": [
    "sub_data.keys()"
   ]
  },
  {
   "cell_type": "markdown",
   "id": "5169b22c",
   "metadata": {},
   "source": [
    "The 'cluster_95_dispatch' is the sub_scenario data for 95 quantile average capacity factor. \n",
    "\n",
    "The value of this key is still a dictionary"
   ]
  },
  {
   "cell_type": "code",
   "execution_count": 4,
   "id": "b0404b80",
   "metadata": {},
   "outputs": [
    {
     "data": {
      "text/plain": [
       "dict"
      ]
     },
     "execution_count": 4,
     "metadata": {},
     "output_type": "execute_result"
    }
   ],
   "source": [
    "sub_95_data = sub_data['cluster_95_dispatch']\n",
    "sub_5_data = sub_data['cluster_5_dispatch']\n",
    "type(sub_95_data)"
   ]
  },
  {
   "cell_type": "markdown",
   "id": "08634ed2",
   "metadata": {},
   "source": [
    "In the 'sub_95_data' dictionary, the keys are the scenario number, from 0 to number of representative days -1.\n",
    "\n",
    "Here the json will automatically set the keys in the dictionary to string instead of float.  "
   ]
  },
  {
   "cell_type": "code",
   "execution_count": 5,
   "id": "deb2660a",
   "metadata": {},
   "outputs": [
    {
     "name": "stdout",
     "output_type": "stream",
     "text": [
      "dict_keys(['0', '1', '2', '3', '4', '5', '6', '7', '8', '9', '10', '11', '12', '13', '14', '15', '16', '17', '18', '19'])\n"
     ]
    }
   ],
   "source": [
    "print(sub_95_data.keys())"
   ]
  },
  {
   "cell_type": "markdown",
   "id": "f0fc29aa",
   "metadata": {},
   "source": [
    "Here you can have the list of lenght 24, which is the time series capacity factor data."
   ]
  },
  {
   "cell_type": "code",
   "execution_count": 6,
   "id": "970ab7b6",
   "metadata": {},
   "outputs": [
    {
     "name": "stdout",
     "output_type": "stream",
     "text": [
      "The type of the 0.95 quantile average capacity factor data of scenario 0 is <class 'list'>\n",
      "The length of the 0.95 quantile average capacity factor data of scenario 0 is 24\n"
     ]
    }
   ],
   "source": [
    "print('The type of the 0.95 quantile average capacity factor data of scenario 0 is',type(sub_95_data['0']))\n",
    "\n",
    "print('The length of the 0.95 quantile average capacity factor data of scenario 0 is',len(sub_95_data['0']))"
   ]
  },
  {
   "cell_type": "code",
   "execution_count": 10,
   "id": "525161ee",
   "metadata": {},
   "outputs": [
    {
     "name": "stdout",
     "output_type": "stream",
     "text": [
      "[0.1612750885478158, 0.06068476977567887, 0.049350649350649346, 0.01345926800472255, 0.006611570247933884, 0.006965761511216057, 0.006729634002361275, 0.006729634002361275, 0.0018113506493506494, 0.002394244391971665, 0.02231404958677686, 0.02538370720188902, 0.07060212514757969, 0.0667060212514758, 0.12373081463990554, 0.09208972845336481, 0.09090909090909091, 0.14037780401416766, 0.2434474616292798, 0.1269185360094451, 0.19929161747343566, 0.29421487603305785, 0.35903187721369545, 0.4987012987012987]\n",
      "0.11123879078118852\n"
     ]
    }
   ],
   "source": [
    "data = sub_95_data['15']\n",
    "print(data)\n",
    "print(sum(data)/24)"
   ]
  },
  {
   "cell_type": "code",
   "execution_count": 11,
   "id": "ad55434f",
   "metadata": {},
   "outputs": [
    {
     "name": "stdout",
     "output_type": "stream",
     "text": [
      "[0.0, 0.0, 0.0, 0.0, 0.0, 0.0, 0.0641931652892562, 0.0, 0.0, 0.0, 0.0, 0.0, 0.0, 0.0, 0.0, 0.0, 0.0, 0.0, 0.0, 0.0, 0.0, 0.0, 0.0, 0.0]\n",
      "0.002674715220385675\n"
     ]
    }
   ],
   "source": [
    "data = sub_5_data['15']\n",
    "print(data)\n",
    "print(sum(data)/24)"
   ]
  },
  {
   "cell_type": "code",
   "execution_count": null,
   "id": "509f506e",
   "metadata": {},
   "outputs": [],
   "source": []
  },
  {
   "cell_type": "code",
   "execution_count": null,
   "id": "993f9bd3",
   "metadata": {},
   "outputs": [],
   "source": []
  }
 ],
 "metadata": {
  "kernelspec": {
   "display_name": "Python 3 (ipykernel)",
   "language": "python",
   "name": "python3"
  },
  "language_info": {
   "codemirror_mode": {
    "name": "ipython",
    "version": 3
   },
   "file_extension": ".py",
   "mimetype": "text/x-python",
   "name": "python",
   "nbconvert_exporter": "python",
   "pygments_lexer": "ipython3",
   "version": "3.8.8"
  }
 },
 "nbformat": 4,
 "nbformat_minor": 5
}
