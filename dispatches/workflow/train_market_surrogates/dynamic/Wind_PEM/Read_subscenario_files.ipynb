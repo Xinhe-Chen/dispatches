{
 "cells": [
  {
   "cell_type": "code",
   "execution_count": 1,
   "id": "1957990f",
   "metadata": {},
   "outputs": [],
   "source": [
    "import pandas as pd\n",
    "import numpy as np\n",
    "import json\n",
    "import matplotlib.pyplot as plt"
   ]
  },
  {
   "cell_type": "markdown",
   "id": "ffdcf708",
   "metadata": {},
   "source": [
    "Read the json file and return a dictionary"
   ]
  },
  {
   "cell_type": "code",
   "execution_count": 36,
   "id": "881e5e11",
   "metadata": {},
   "outputs": [],
   "source": [
    "file_name = 'dispatch_95_5_median.json'\n",
    "\n",
    "with open(file_name) as f:\n",
    "    sub_data = json.load(f)"
   ]
  },
  {
   "cell_type": "markdown",
   "id": "18f93f19",
   "metadata": {},
   "source": [
    "Here are the keys of this dictionary."
   ]
  },
  {
   "cell_type": "code",
   "execution_count": 37,
   "id": "ed77a82a",
   "metadata": {},
   "outputs": [
    {
     "data": {
      "text/plain": [
       "dict_keys(['cluster_95_dispatch', 'cluster_5_dispatch', 'median_dispatch', 'cluster_95_wind', 'cluster_5_wind', 'median_wind'])"
      ]
     },
     "execution_count": 37,
     "metadata": {},
     "output_type": "execute_result"
    }
   ],
   "source": [
    "sub_data.keys()"
   ]
  },
  {
   "cell_type": "markdown",
   "id": "5169b22c",
   "metadata": {},
   "source": [
    "The 'cluster_95_dispatch' is the sub_scenario data for 95 quantile average capacity factor. \n",
    "\n",
    "The value of this key is still a dictionary"
   ]
  },
  {
   "cell_type": "code",
   "execution_count": 38,
   "id": "b0404b80",
   "metadata": {},
   "outputs": [
    {
     "data": {
      "text/plain": [
       "dict"
      ]
     },
     "execution_count": 38,
     "metadata": {},
     "output_type": "execute_result"
    }
   ],
   "source": [
    "sub_95_data = sub_data['cluster_95_dispatch']\n",
    "\n",
    "type(sub_95_data)"
   ]
  },
  {
   "cell_type": "markdown",
   "id": "08634ed2",
   "metadata": {},
   "source": [
    "In the 'sub_95_data' dictionary, the keys are the scenario number, from 0 to number of representative days -1.\n",
    "\n",
    "Here the json will automatically set the keys in the dictionary to string instead of float.  "
   ]
  },
  {
   "cell_type": "code",
   "execution_count": 39,
   "id": "deb2660a",
   "metadata": {},
   "outputs": [
    {
     "name": "stdout",
     "output_type": "stream",
     "text": [
      "dict_keys(['0', '1', '2', '3', '4', '5', '6', '7', '8', '9', '10', '11', '12', '13', '14', '15', '16', '17', '18', '19'])\n"
     ]
    }
   ],
   "source": [
    "print(sub_95_data.keys())"
   ]
  },
  {
   "cell_type": "markdown",
   "id": "f0fc29aa",
   "metadata": {},
   "source": [
    "Here you can have the list of lenght 24, which is the time series capacity factor data."
   ]
  },
  {
   "cell_type": "code",
   "execution_count": 40,
   "id": "970ab7b6",
   "metadata": {},
   "outputs": [
    {
     "name": "stdout",
     "output_type": "stream",
     "text": [
      "The type of the 0.95 quantile average capacity factor data of scenario 0 is <class 'list'>\n",
      "The length of the 0.95 quantile average capacity factor data of scenario 0 is 24\n"
     ]
    }
   ],
   "source": [
    "print('The type of the 0.95 quantile average capacity factor data of scenario 0 is',type(sub_95_data['0']))\n",
    "\n",
    "print('The length of the 0.95 quantile average capacity factor data of scenario 0 is',len(sub_95_data['0']))"
   ]
  },
  {
   "cell_type": "code",
   "execution_count": 41,
   "id": "525161ee",
   "metadata": {},
   "outputs": [
    {
     "data": {
      "text/plain": [
       "[0.0,\n",
       " 0.0,\n",
       " 0.0,\n",
       " 0.0,\n",
       " 0.0,\n",
       " 0.0,\n",
       " 0.0,\n",
       " 0.0,\n",
       " 0.0,\n",
       " 0.21789605312868948,\n",
       " 0.4631641086186541,\n",
       " 0.4358913813459268,\n",
       " 0.5149940968122786,\n",
       " 0.420543093270366,\n",
       " 0.5193624557260921,\n",
       " 0.5944510035419126,\n",
       " 0.61357733175915,\n",
       " 0.7064275678866588,\n",
       " 0.6795534368358914,\n",
       " 0.6645528701298701,\n",
       " 0.6381176186540732,\n",
       " 0.6127838170011806,\n",
       " 0.6185875737898465,\n",
       " 0.6127611157024793]"
      ]
     },
     "execution_count": 41,
     "metadata": {},
     "output_type": "execute_result"
    }
   ],
   "source": [
    "sub_95_data['0']"
   ]
  },
  {
   "cell_type": "code",
   "execution_count": null,
   "id": "a2af03c6",
   "metadata": {},
   "outputs": [],
   "source": []
  }
 ],
 "metadata": {
  "kernelspec": {
   "display_name": "Python 3 (ipykernel)",
   "language": "python",
   "name": "python3"
  },
  "language_info": {
   "codemirror_mode": {
    "name": "ipython",
    "version": 3
   },
   "file_extension": ".py",
   "mimetype": "text/x-python",
   "name": "python",
   "nbconvert_exporter": "python",
   "pygments_lexer": "ipython3",
   "version": "3.8.8"
  }
 },
 "nbformat": 4,
 "nbformat_minor": 5
}
