{
 "cells": [
  {
   "cell_type": "markdown",
   "id": "93a39abb",
   "metadata": {},
   "source": [
    "# Price-taker with uncertainty analysis notebook"
   ]
  },
  {
   "cell_type": "code",
   "execution_count": 1,
   "id": "e4f31dd8",
   "metadata": {},
   "outputs": [],
   "source": [
    "import numpy as np\n",
    "import pandas as pd\n",
    "from numbers import Real\n",
    "from pathlib import Path\n",
    "from functools import partial\n",
    "# from Backcaster_of_price_taker import PricetakerBackcaster\n",
    "from Backcaster_of_price_taker import PriceBackcaster\n",
    "from dispatches.case_studies.renewables_case.load_parameters import *"
   ]
  },
  {
   "cell_type": "code",
   "execution_count": 2,
   "id": "113c6085",
   "metadata": {},
   "outputs": [],
   "source": [
    "lmps_df = pd.read_parquet(Path(\"data\", \"303_LMPs_15_reserve_500_shortfall.parquet\"))\n",
    "lmps = lmps_df['LMP'].values\n",
    "lmps[lmps>500] = 500"
   ]
  },
  {
   "cell_type": "code",
   "execution_count": 3,
   "id": "65cef846",
   "metadata": {},
   "outputs": [],
   "source": [
    "def check_two_signals(signal_1, signal_2):\n",
    "    return np.allclose(signal_1, signal_2)"
   ]
  },
  {
   "cell_type": "code",
   "execution_count": 11,
   "id": "cfcd5296",
   "metadata": {},
   "outputs": [
    {
     "data": {
      "text/plain": [
       "True"
      ]
     },
     "execution_count": 11,
     "metadata": {},
     "output_type": "execute_result"
    }
   ],
   "source": [
    "# define the initial values\n",
    "signal = lmps\n",
    "horizon = 24\n",
    "future_horizon = 48\n",
    "scenario = 3\n",
    "\n",
    "pb = PriceBackcaster(signal, scenario=scenario, pointer=0, horizon=horizon, future_horizon=future_horizon)\n",
    "\n",
    "real_signal = lmps[0:24]\n",
    "fetched_signal = pb.generate_stage_1_price_signals()\n",
    "check_two_signals(real_signal, fetched_signal)"
   ]
  },
  {
   "cell_type": "code",
   "execution_count": 16,
   "id": "a68b63c1",
   "metadata": {},
   "outputs": [
    {
     "data": {
      "text/plain": [
       "True"
      ]
     },
     "execution_count": 16,
     "metadata": {},
     "output_type": "execute_result"
    }
   ],
   "source": [
    "real_signal_1 = lmps[-48:]\n",
    "fetched_signal_1 = pb.generate_stage_2_price_signals()[2]\n",
    "check_two_signals(real_signal_1, fetched_signal_1)"
   ]
  },
  {
   "cell_type": "code",
   "execution_count": 18,
   "id": "042c5258",
   "metadata": {},
   "outputs": [
    {
     "data": {
      "text/plain": [
       "True"
      ]
     },
     "execution_count": 18,
     "metadata": {},
     "output_type": "execute_result"
    }
   ],
   "source": [
    "real_signal_2 = lmps[-72:-24]\n",
    "fetched_signal_2 = pb.generate_stage_2_price_signals()[1]\n",
    "check_two_signals(real_signal_2, fetched_signal_2)"
   ]
  },
  {
   "cell_type": "code",
   "execution_count": 20,
   "id": "1e8a3625",
   "metadata": {},
   "outputs": [
    {
     "data": {
      "text/plain": [
       "True"
      ]
     },
     "execution_count": 20,
     "metadata": {},
     "output_type": "execute_result"
    }
   ],
   "source": [
    "real_signal_3 = lmps[-96:-48]\n",
    "fetched_signal_3 = pb.generate_stage_2_price_signals()[0]\n",
    "check_two_signals(real_signal_3, fetched_signal_3)"
   ]
  },
  {
   "cell_type": "code",
   "execution_count": 22,
   "id": "af98d454",
   "metadata": {},
   "outputs": [
    {
     "data": {
      "text/plain": [
       "True"
      ]
     },
     "execution_count": 22,
     "metadata": {},
     "output_type": "execute_result"
    }
   ],
   "source": [
    "pb.pointer = 10\n",
    "\n",
    "real_signal = lmps[10*24: 10*24+24]\n",
    "fetched_signal = pb.generate_stage_1_price_signals()\n",
    "check_two_signals(real_signal, fetched_signal)"
   ]
  },
  {
   "cell_type": "code",
   "execution_count": 24,
   "id": "69352b60",
   "metadata": {},
   "outputs": [
    {
     "data": {
      "text/plain": [
       "True"
      ]
     },
     "execution_count": 24,
     "metadata": {},
     "output_type": "execute_result"
    }
   ],
   "source": [
    "real_signal_1 = lmps[(pb.pointer-2)*24:pb.pointer*24]\n",
    "fetched_signal_1 = pb.generate_stage_2_price_signals()[2]\n",
    "check_two_signals(real_signal_1, fetched_signal_1)"
   ]
  },
  {
   "cell_type": "code",
   "execution_count": 25,
   "id": "7e8fd577",
   "metadata": {},
   "outputs": [
    {
     "data": {
      "text/plain": [
       "True"
      ]
     },
     "execution_count": 25,
     "metadata": {},
     "output_type": "execute_result"
    }
   ],
   "source": [
    "real_signal_2 = lmps[(pb.pointer-3)*24:(pb.pointer-1)*24]\n",
    "fetched_signal_2 = pb.generate_stage_2_price_signals()[1]\n",
    "check_two_signals(real_signal_2, fetched_signal_2)"
   ]
  },
  {
   "cell_type": "code",
   "execution_count": 26,
   "id": "b122a65f",
   "metadata": {},
   "outputs": [
    {
     "data": {
      "text/plain": [
       "True"
      ]
     },
     "execution_count": 26,
     "metadata": {},
     "output_type": "execute_result"
    }
   ],
   "source": [
    "real_signal_3 = lmps[(pb.pointer-4)*24:(pb.pointer-2)*24]\n",
    "fetched_signal_3 = pb.generate_stage_2_price_signals()[0]\n",
    "check_two_signals(real_signal_3, fetched_signal_3)"
   ]
  },
  {
   "cell_type": "markdown",
   "id": "a1209960",
   "metadata": {},
   "source": [
    "## Inspect the test results"
   ]
  },
  {
   "cell_type": "code",
   "execution_count": 26,
   "id": "c00f8f02",
   "metadata": {},
   "outputs": [
    {
     "data": {
      "text/plain": [
       "[826.2000081924941,\n",
       " 819.2000079614942,\n",
       " 775.4000078954942,\n",
       " 749.5000071254942,\n",
       " 802.1000077964942,\n",
       " 819.5000085884942,\n",
       " 794.8000077854941,\n",
       " 761.9000076314942,\n",
       " 743.5000072904942,\n",
       " 488.3000049914941,\n",
       " 247.90000228549414,\n",
       " 140.0000012294941,\n",
       " 131.90000124287386,\n",
       " 65.70000094587493,\n",
       " 45.800000857860155,\n",
       " 122.80000085549402,\n",
       " 115.20000106687735,\n",
       " 205.80000238690886,\n",
       " 360.10000386089587,\n",
       " 308.5000027388944,\n",
       " 309.9000031238885,\n",
       " 287.9000028818829,\n",
       " 170.40000208989332,\n",
       " 99.0000010888885]"
      ]
     },
     "execution_count": 26,
     "metadata": {},
     "output_type": "execute_result"
    }
   ],
   "source": [
    "import json\n",
    "path = \"test_wb_new_uncertainty_scenario3_24_48.json\"\n",
    "with open(path, 'rb') as f:\n",
    "    res_dict = json.load(f)\n",
    "\n",
    "res_dict['0'][\"wind_gen\"]"
   ]
  },
  {
   "cell_type": "code",
   "execution_count": 27,
   "id": "381b388a",
   "metadata": {},
   "outputs": [
    {
     "name": "stdout",
     "output_type": "stream",
     "text": [
      "optimal\n",
      "optimal\n",
      "optimal\n"
     ]
    }
   ],
   "source": [
    "for key in res_dict.keys():\n",
    "    print(res_dict[key]['solver_stat'])"
   ]
  },
  {
   "cell_type": "code",
   "execution_count": 28,
   "id": "71ff9569",
   "metadata": {},
   "outputs": [
    {
     "name": "stdout",
     "output_type": "stream",
     "text": [
      "2063431.3728448213\n"
     ]
    }
   ],
   "source": [
    "rev=0\n",
    "for key in res_dict.keys():\n",
    "    rev += res_dict[key][\"revenue\"][0]\n",
    "#     print(res_dict[key]['stage_1_start_soc'], res_dict[key]['stage_1_end_soc'])\n",
    "#     print(res_dict[key]['stage_2_start_soc'], res_dict[key]['stage_2_end_soc'])\n",
    "#     print(\"--------------------------------------------------------------------\")\n",
    "print(rev)"
   ]
  },
  {
   "cell_type": "code",
   "execution_count": 29,
   "id": "59ff2e51",
   "metadata": {},
   "outputs": [
    {
     "name": "stdout",
     "output_type": "stream",
     "text": [
      "day_0   [ 0.        0.        0.        0.        0.        0.        0.\n",
      " -0.        0.        0.        0.        0.       18.861019 19.034775\n",
      "  0.        0.       19.430296 26.486943 23.069973 22.732362 21.474047\n",
      " 20.419098 22.492854 21.474047]\n",
      "----------------------------------\n",
      "day_1   [21.287879 72.185841 72.492854 72.96816  71.843654 20.419098 21.287879\n",
      " 73.069973  0.        0.        0.        0.        0.        0.\n",
      "  0.        0.        0.        0.        0.        0.       -0.\n",
      " -0.        0.       -0.      ]\n",
      "----------------------------------\n",
      "day_2   [ 0.        0.        0.        0.       19.68943  -0.        0.\n",
      "  0.        0.        0.        0.        0.        0.        0.\n",
      "  0.        0.        0.        0.       18.861019 19.68943  22.576747\n",
      " 23.069973 23.128644 22.576747]\n",
      "----------------------------------\n",
      "day_3   [23.128644 23.128644 23.069973 23.069973 22.96816  23.128644 24.617414\n",
      " 76.324557 22.492854 19.034775  0.        0.        0.        0.\n",
      "  0.        0.        0.        0.        0.        0.        0.\n",
      " -0.        0.        0.      ]\n",
      "----------------------------------\n",
      "day_4   [-0.  0.  0. -0.  0.  0.  0.  0. -0. -0.  0.  0. -0.  0.  0.  0. -0.  0.\n",
      "  0.  0.  0.  0.  0.  0.]\n",
      "----------------------------------\n",
      "day_5   [ 0.       -0.        0.       -0.       -0.       -0.        0.\n",
      " -0.       -0.       -0.       -0.        0.        0.        0.\n",
      "  0.        0.        0.       -0.       51.296047 71.474047  0.\n",
      "  0.        0.        0.      ]\n",
      "----------------------------------\n",
      "day_6   [ 0.  0.  0.  0.  0.  0.  0.  0. -0.  0.  0.  0. -0. -0.  0.  0.  0. -0.\n",
      "  0.  0. -0. -0.  0.  0.]\n",
      "----------------------------------\n",
      "day_7   [ 0.  0.  0.  0.  0.  0.  0.  0.  0.  0.  0.  0.  0.  0.  0.  0.  0.  0.\n",
      "  0.  0.  0. -0. -0.  0.]\n",
      "----------------------------------\n",
      "day_8   [ 0.        0.        0.        0.        0.        0.        0.\n",
      "  0.        0.       -0.        0.        0.        0.        0.\n",
      "  0.        0.        0.       19.983547 21.287879  0.       19.983547\n",
      " 19.983547 19.034775 -0.      ]\n",
      "----------------------------------\n",
      "day_9   [ 0.        0.        0.       18.072542 19.034775  0.        0.\n",
      " -0.        0.        0.        0.        0.        0.        0.\n",
      "  0.        0.        0.        0.        0.       -0.        0.\n",
      "  0.        0.       18.463561]\n",
      "----------------------------------\n"
     ]
    }
   ],
   "source": [
    "for i in range(10):\n",
    "    print(f\"day_{i}  \", lmps[i*24:(i+1)*24])\n",
    "    print(\"----------------------------------\")"
   ]
  },
  {
   "cell_type": "code",
   "execution_count": 30,
   "id": "d2b2b85d",
   "metadata": {},
   "outputs": [
    {
     "data": {
      "text/plain": [
       "2069625.1333333408"
      ]
     },
     "execution_count": 30,
     "metadata": {},
     "output_type": "execute_result"
    }
   ],
   "source": [
    "from load_parameters import default_input_params\n",
    "default_input_params.keys()\n",
    "default_input_params['wind_resource']\n",
    "s = 0\n",
    "for i in default_input_params['wind_resource']:\n",
    "    s += default_input_params['wind_resource'][i]['wind_resource_config']['capacity_factor'][0]*847\n",
    "s"
   ]
  },
  {
   "cell_type": "code",
   "execution_count": null,
   "id": "5ab51184",
   "metadata": {},
   "outputs": [],
   "source": []
  }
 ],
 "metadata": {
  "kernelspec": {
   "display_name": "Python 3 (ipykernel)",
   "language": "python",
   "name": "python3"
  },
  "language_info": {
   "codemirror_mode": {
    "name": "ipython",
    "version": 3
   },
   "file_extension": ".py",
   "mimetype": "text/x-python",
   "name": "python",
   "nbconvert_exporter": "python",
   "pygments_lexer": "ipython3",
   "version": "3.8.12"
  }
 },
 "nbformat": 4,
 "nbformat_minor": 5
}
