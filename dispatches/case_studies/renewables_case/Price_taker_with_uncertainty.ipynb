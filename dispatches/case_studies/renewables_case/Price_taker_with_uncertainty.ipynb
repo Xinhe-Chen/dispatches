{
 "cells": [
  {
   "cell_type": "markdown",
   "id": "93a39abb",
   "metadata": {},
   "source": [
    "# Price-taker with uncertainty analysis notebook"
   ]
  },
  {
   "cell_type": "code",
   "execution_count": 3,
   "id": "e4f31dd8",
   "metadata": {},
   "outputs": [],
   "source": [
    "import numpy as np\n",
    "import pandas as pd\n",
    "from numbers import Real\n",
    "from pathlib import Path\n",
    "from functools import partial\n",
    "# from Backcaster_of_price_taker import PricetakerBackcaster\n",
    "from Backcaster_of_price_taker import PriceBackcaster\n",
    "from dispatches.case_studies.renewables_case.load_parameters import *"
   ]
  },
  {
   "cell_type": "code",
   "execution_count": 8,
   "id": "113c6085",
   "metadata": {},
   "outputs": [],
   "source": [
    "lmps_df = pd.read_parquet(Path(\"data\", \"303_LMPs_15_reserve_500_shortfall.parquet\"))\n",
    "lmps = lmps_df['LMP'].values\n",
    "lmps[lmps>500] = 500"
   ]
  },
  {
   "cell_type": "code",
   "execution_count": 9,
   "id": "65cef846",
   "metadata": {},
   "outputs": [],
   "source": [
    "def check_two_signals(signal_1, signal_2):\n",
    "    return np.allclose(signal_1, signal_2)"
   ]
  },
  {
   "cell_type": "code",
   "execution_count": 11,
   "id": "cfcd5296",
   "metadata": {},
   "outputs": [
    {
     "data": {
      "text/plain": [
       "True"
      ]
     },
     "execution_count": 11,
     "metadata": {},
     "output_type": "execute_result"
    }
   ],
   "source": [
    "# define the initial values\n",
    "signal = lmps\n",
    "horizon = 24\n",
    "future_horizon = 48\n",
    "scenario = 3\n",
    "\n",
    "pb = PriceBackcaster(signal, scenario=scenario, pointer=0, horizon=horizon, future_horizon=future_horizon)\n",
    "\n",
    "real_signal = lmps[0:24]\n",
    "fetched_signal = pb.generate_stage_1_price_signals()\n",
    "check_two_signals(real_signal, fetched_signal)"
   ]
  },
  {
   "cell_type": "code",
   "execution_count": 16,
   "id": "a68b63c1",
   "metadata": {},
   "outputs": [
    {
     "data": {
      "text/plain": [
       "True"
      ]
     },
     "execution_count": 16,
     "metadata": {},
     "output_type": "execute_result"
    }
   ],
   "source": [
    "real_signal_1 = lmps[-48:]\n",
    "fetched_signal_1 = pb.generate_stage_2_price_signals()[2]\n",
    "check_two_signals(real_signal_1, fetched_signal_1)"
   ]
  },
  {
   "cell_type": "code",
   "execution_count": 18,
   "id": "042c5258",
   "metadata": {},
   "outputs": [
    {
     "data": {
      "text/plain": [
       "True"
      ]
     },
     "execution_count": 18,
     "metadata": {},
     "output_type": "execute_result"
    }
   ],
   "source": [
    "real_signal_2 = lmps[-72:-24]\n",
    "fetched_signal_2 = pb.generate_stage_2_price_signals()[1]\n",
    "check_two_signals(real_signal_2, fetched_signal_2)"
   ]
  },
  {
   "cell_type": "code",
   "execution_count": 20,
   "id": "1e8a3625",
   "metadata": {},
   "outputs": [
    {
     "data": {
      "text/plain": [
       "True"
      ]
     },
     "execution_count": 20,
     "metadata": {},
     "output_type": "execute_result"
    }
   ],
   "source": [
    "real_signal_3 = lmps[-96:-48]\n",
    "fetched_signal_3 = pb.generate_stage_2_price_signals()[0]\n",
    "check_two_signals(real_signal_3, fetched_signal_3)"
   ]
  },
  {
   "cell_type": "code",
   "execution_count": 22,
   "id": "af98d454",
   "metadata": {},
   "outputs": [
    {
     "data": {
      "text/plain": [
       "True"
      ]
     },
     "execution_count": 22,
     "metadata": {},
     "output_type": "execute_result"
    }
   ],
   "source": [
    "pb.pointer = 10\n",
    "\n",
    "real_signal = lmps[10*24: 10*24+24]\n",
    "fetched_signal = pb.generate_stage_1_price_signals()\n",
    "check_two_signals(real_signal, fetched_signal)"
   ]
  },
  {
   "cell_type": "code",
   "execution_count": 24,
   "id": "69352b60",
   "metadata": {},
   "outputs": [
    {
     "data": {
      "text/plain": [
       "True"
      ]
     },
     "execution_count": 24,
     "metadata": {},
     "output_type": "execute_result"
    }
   ],
   "source": [
    "real_signal_1 = lmps[(pb.pointer-2)*24:pb.pointer*24]\n",
    "fetched_signal_1 = pb.generate_stage_2_price_signals()[2]\n",
    "check_two_signals(real_signal_1, fetched_signal_1)"
   ]
  },
  {
   "cell_type": "code",
   "execution_count": 25,
   "id": "7e8fd577",
   "metadata": {},
   "outputs": [
    {
     "data": {
      "text/plain": [
       "True"
      ]
     },
     "execution_count": 25,
     "metadata": {},
     "output_type": "execute_result"
    }
   ],
   "source": [
    "real_signal_2 = lmps[(pb.pointer-3)*24:(pb.pointer-1)*24]\n",
    "fetched_signal_2 = pb.generate_stage_2_price_signals()[1]\n",
    "check_two_signals(real_signal_2, fetched_signal_2)"
   ]
  },
  {
   "cell_type": "code",
   "execution_count": 26,
   "id": "b122a65f",
   "metadata": {},
   "outputs": [
    {
     "data": {
      "text/plain": [
       "True"
      ]
     },
     "execution_count": 26,
     "metadata": {},
     "output_type": "execute_result"
    }
   ],
   "source": [
    "real_signal_3 = lmps[(pb.pointer-4)*24:(pb.pointer-2)*24]\n",
    "fetched_signal_3 = pb.generate_stage_2_price_signals()[0]\n",
    "check_two_signals(real_signal_3, fetched_signal_3)"
   ]
  },
  {
   "cell_type": "markdown",
   "id": "a1209960",
   "metadata": {},
   "source": [
    "## Inspect the test results"
   ]
  },
  {
   "cell_type": "code",
   "execution_count": 112,
   "id": "c00f8f02",
   "metadata": {},
   "outputs": [
    {
     "data": {
      "text/plain": [
       "{'stage_1_start_soc': 0,\n",
       " 'stage_1_end_soc': 88895.61261435537,\n",
       " 'stage_2_start_soc': [88895.61261435537,\n",
       "  88895.61261435537,\n",
       "  88895.61261435537],\n",
       " 'stage_2_end_soc': [0.0, 0.0, 0.0],\n",
       " 'stage_1_end_energy_throughput': 351519.28554662404,\n",
       " 'solver_stat': 'optimal',\n",
       " 'stage_1_elec_in': 46124.19192320253,\n",
       " 'stage_1_elec_out': 0.015400942370527929,\n",
       " 'stage_1_init_et': 0.16762722639093575,\n",
       " 'stage_1_step_0_et': 23062.271289298846,\n",
       " 'revenue': 888235.2366424422}"
      ]
     },
     "execution_count": 112,
     "metadata": {},
     "output_type": "execute_result"
    }
   ],
   "source": [
    "import json\n",
    "path = \"test_wb_new_uncertainty_scenario3_24_48.json\"\n",
    "with open(path, 'rb') as f:\n",
    "    res_dict = json.load(f)\n",
    "\n",
    "res_dict['0']"
   ]
  },
  {
   "cell_type": "code",
   "execution_count": 113,
   "id": "381b388a",
   "metadata": {},
   "outputs": [
    {
     "name": "stdout",
     "output_type": "stream",
     "text": [
      "optimal\n",
      "optimal\n",
      "optimal\n",
      "optimal\n",
      "optimal\n",
      "optimal\n",
      "optimal\n",
      "optimal\n",
      "optimal\n",
      "optimal\n",
      "optimal\n",
      "optimal\n",
      "optimal\n",
      "optimal\n",
      "optimal\n",
      "optimal\n",
      "optimal\n",
      "optimal\n",
      "optimal\n",
      "optimal\n"
     ]
    }
   ],
   "source": [
    "for key in res_dict.keys():\n",
    "    print(res_dict[key]['solver_stat'])"
   ]
  },
  {
   "cell_type": "code",
   "execution_count": 116,
   "id": "71ff9569",
   "metadata": {},
   "outputs": [
    {
     "name": "stdout",
     "output_type": "stream",
     "text": [
      "0 88895.61261435537\n",
      "[88895.61261435537, 88895.61261435537, 88895.61261435537] [0.0, 0.0, 0.0]\n",
      "--------------------------------------------------------------------\n",
      "88895.61261435537 169369.87847814368\n",
      "[169369.87847814368, 169369.87847814368, 169369.87847814368] [88895.61261435537, 88895.61261435537, 88895.61261435537]\n",
      "--------------------------------------------------------------------\n",
      "169369.87847814368 169388.5548000933\n",
      "[169388.5548000933, 169388.5548000933, 169388.5548000933] [169369.87847814368, 169369.87847814368, 169369.87847814368]\n",
      "--------------------------------------------------------------------\n",
      "169388.5548000933 151574.70063821285\n",
      "[151574.70063821285, 151574.70063821285, 151574.70063821285] [169388.55480009314, 169388.55480009344, 169388.5548000933]\n",
      "--------------------------------------------------------------------\n",
      "151574.70063821285 169399.06153708944\n",
      "[169399.06153708944, 169399.06153708944, 169399.06153708944] [151574.70063821285, 151574.70063821285, 151574.70063821285]\n",
      "--------------------------------------------------------------------\n",
      "169399.06153708944 169399.64113629216\n",
      "[169399.64113629216, 169399.64113629216, 169399.64113629216] [169399.06153708944, 169399.06153708944, 169399.06153708944]\n",
      "--------------------------------------------------------------------\n",
      "169399.64113629216 169399.79466215716\n",
      "[169399.79466215716, 169399.79466215716, 169399.79466215716] [169399.64113629216, 169399.64113629216, 169399.64113629216]\n",
      "--------------------------------------------------------------------\n",
      "169399.79466215716 169399.88483201998\n",
      "[169399.88483201998, 169399.88483201998, 169399.88483201998] [169399.79466215716, 169399.79466215716, 169399.79466215716]\n",
      "--------------------------------------------------------------------\n",
      "169399.88483201998 169399.92940310657\n",
      "[169399.92940310657, 169399.92940310657, 169399.92940310657] [169399.88483201998, 169399.88483201998, 169399.88483201998]\n",
      "--------------------------------------------------------------------\n",
      "169399.92940310657 169399.9580608155\n",
      "[169399.9580608155, 169399.9580608155, 169399.9580608155] [169399.92940310657, 169399.92940310657, 169399.92940310657]\n",
      "--------------------------------------------------------------------\n",
      "169399.9580608155 169016.536469031\n",
      "[169016.536469031, 169016.536469031, 169016.536469031] [169399.95806081625, 169399.95806081453, 169399.9580608157]\n",
      "--------------------------------------------------------------------\n",
      "169016.536469031 2.263442557198748e-05\n",
      "[2.2634425571987265e-05, 2.2634425571987265e-05, 2.2634425571987915e-05] [169016.536469031, 169016.536469031, 169016.536469031]\n",
      "--------------------------------------------------------------------\n",
      "2.263442557198748e-05 52050.61394214765\n",
      "[52050.61394214765, 52050.61394214765, 52050.61394214765] [2.2634412125723058e-05, 2.2634412125723214e-05, 2.2634412125685328e-05]\n",
      "--------------------------------------------------------------------\n",
      "52050.61394214765 0.00036292706315147047\n",
      "[0.00036292706315146456, 0.00036292706315146456, 0.0003629270631514648] [52050.61394214765, 52050.61394214765, 52050.61394214765]\n",
      "--------------------------------------------------------------------\n",
      "0.00036292706315147047 80465.0006213968\n",
      "[80465.0006213968, 80465.0006213968, 80465.0006213968] [0.00036292706315174114, 0.0003629270631530171, 0.00036292706315218636]\n",
      "--------------------------------------------------------------------\n",
      "80465.0006213968 169395.31913621898\n",
      "[169395.31913621898, 169395.31913621898, 169395.31913621898] [80465.0006213968, 80465.0006213968, 80465.0006213968]\n",
      "--------------------------------------------------------------------\n",
      "169395.31913621898 169397.74942404102\n",
      "[169397.74942404102, 169397.74942404102, 169397.74942404102] [169395.31913621898, 169395.31913621898, 169395.31913621898]\n",
      "--------------------------------------------------------------------\n",
      "169397.74942404102 146923.65115634652\n",
      "[146923.65115634652, 146923.65115634652, 146923.65115634652] [169397.74942404102, 169397.74942404102, 169397.74942404102]\n",
      "--------------------------------------------------------------------\n",
      "146923.65115634652 0.00011254611722767531\n",
      "[0.00011254611722767878, 0.00011254611722769613, 0.00011254611722767704] [146923.65115634652, 146923.65115634652, 146923.65115634652]\n",
      "--------------------------------------------------------------------\n",
      "0.00011254611722767531 0.00048339655752681934\n",
      "[0.0004833965575268194, 0.00048339655752681934, 0.0004833965575268074] [0.00011254611635153968, 0.00011254611635150177, 0.00011254611635154147]\n",
      "--------------------------------------------------------------------\n",
      "7620524.851532526\n"
     ]
    }
   ],
   "source": [
    "rev=0\n",
    "for key in res_dict.keys():\n",
    "    rev += res_dict[key][\"revenue\"]\n",
    "    print(res_dict[key]['stage_1_start_soc'], res_dict[key]['stage_1_end_soc'])\n",
    "    print(res_dict[key]['stage_2_start_soc'], res_dict[key]['stage_2_end_soc'])\n",
    "    print(\"--------------------------------------------------------------------\")\n",
    "print(rev)"
   ]
  },
  {
   "cell_type": "code",
   "execution_count": 58,
   "id": "59ff2e51",
   "metadata": {},
   "outputs": [
    {
     "name": "stdout",
     "output_type": "stream",
     "text": [
      "day_0   [ 0.        0.        0.        0.        0.        0.        0.\n",
      " -0.        0.        0.        0.        0.       18.861019 19.034775\n",
      "  0.        0.       19.430296 26.486943 23.069973 22.732362 21.474047\n",
      " 20.419098 22.492854 21.474047]\n",
      "----------------------------------\n",
      "day_1   [21.287879 72.185841 72.492854 72.96816  71.843654 20.419098 21.287879\n",
      " 73.069973  0.        0.        0.        0.        0.        0.\n",
      "  0.        0.        0.        0.        0.        0.       -0.\n",
      " -0.        0.       -0.      ]\n",
      "----------------------------------\n",
      "day_2   [ 0.        0.        0.        0.       19.68943  -0.        0.\n",
      "  0.        0.        0.        0.        0.        0.        0.\n",
      "  0.        0.        0.        0.       18.861019 19.68943  22.576747\n",
      " 23.069973 23.128644 22.576747]\n",
      "----------------------------------\n",
      "day_3   [23.128644 23.128644 23.069973 23.069973 22.96816  23.128644 24.617414\n",
      " 76.324557 22.492854 19.034775  0.        0.        0.        0.\n",
      "  0.        0.        0.        0.        0.        0.        0.\n",
      " -0.        0.        0.      ]\n",
      "----------------------------------\n",
      "day_4   [-0.  0.  0. -0.  0.  0.  0.  0. -0. -0.  0.  0. -0.  0.  0.  0. -0.  0.\n",
      "  0.  0.  0.  0.  0.  0.]\n",
      "----------------------------------\n",
      "day_5   [ 0.       -0.        0.       -0.       -0.       -0.        0.\n",
      " -0.       -0.       -0.       -0.        0.        0.        0.\n",
      "  0.        0.        0.       -0.       51.296047 71.474047  0.\n",
      "  0.        0.        0.      ]\n",
      "----------------------------------\n",
      "day_6   [ 0.  0.  0.  0.  0.  0.  0.  0. -0.  0.  0.  0. -0. -0.  0.  0.  0. -0.\n",
      "  0.  0. -0. -0.  0.  0.]\n",
      "----------------------------------\n",
      "day_7   [ 0.  0.  0.  0.  0.  0.  0.  0.  0.  0.  0.  0.  0.  0.  0.  0.  0.  0.\n",
      "  0.  0.  0. -0. -0.  0.]\n",
      "----------------------------------\n",
      "day_8   [ 0.        0.        0.        0.        0.        0.        0.\n",
      "  0.        0.       -0.        0.        0.        0.        0.\n",
      "  0.        0.        0.       19.983547 21.287879  0.       19.983547\n",
      " 19.983547 19.034775 -0.      ]\n",
      "----------------------------------\n",
      "day_9   [ 0.        0.        0.       18.072542 19.034775  0.        0.\n",
      " -0.        0.        0.        0.        0.        0.        0.\n",
      "  0.        0.        0.        0.        0.       -0.        0.\n",
      "  0.        0.       18.463561]\n",
      "----------------------------------\n"
     ]
    }
   ],
   "source": [
    "for i in range(10):\n",
    "    print(f\"day_{i}  \", lmps[i*24:(i+1)*24])\n",
    "    print(\"----------------------------------\")"
   ]
  },
  {
   "cell_type": "code",
   "execution_count": null,
   "id": "d2b2b85d",
   "metadata": {},
   "outputs": [],
   "source": []
  }
 ],
 "metadata": {
  "kernelspec": {
   "display_name": "Python 3 (ipykernel)",
   "language": "python",
   "name": "python3"
  },
  "language_info": {
   "codemirror_mode": {
    "name": "ipython",
    "version": 3
   },
   "file_extension": ".py",
   "mimetype": "text/x-python",
   "name": "python",
   "nbconvert_exporter": "python",
   "pygments_lexer": "ipython3",
   "version": "3.8.12"
  }
 },
 "nbformat": 4,
 "nbformat_minor": 5
}
